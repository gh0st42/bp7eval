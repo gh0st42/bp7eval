{
 "cells": [
  {
   "cell_type": "code",
   "execution_count": 1,
   "metadata": {},
   "outputs": [],
   "source": [
    "import pandas as pd\n",
    "import matplotlib.pyplot as plt"
   ]
  },
  {
   "cell_type": "code",
   "execution_count": 2,
   "metadata": {},
   "outputs": [],
   "source": [
    "df = pd.read_csv('../results/complete.csv')\n",
    "df['crc'] = df['crc'].str.upper()"
   ]
  },
  {
   "cell_type": "code",
   "execution_count": 3,
   "metadata": {},
   "outputs": [],
   "source": [
    "df = df.drop(columns='runs')\n",
    "df = df.replace(\".out\",\"\", regex=True)"
   ]
  },
  {
   "cell_type": "markdown",
   "metadata": {},
   "source": [
    "# Raw Average Results"
   ]
  },
  {
   "cell_type": "code",
   "execution_count": 4,
   "metadata": {},
   "outputs": [
    {
     "data": {
      "text/html": [
       "<div>\n",
       "<style scoped>\n",
       "    .dataframe tbody tr th:only-of-type {\n",
       "        vertical-align: middle;\n",
       "    }\n",
       "\n",
       "    .dataframe tbody tr th {\n",
       "        vertical-align: top;\n",
       "    }\n",
       "\n",
       "    .dataframe thead th {\n",
       "        text-align: right;\n",
       "    }\n",
       "</style>\n",
       "<table border=\"1\" class=\"dataframe\">\n",
       "  <thead>\n",
       "    <tr style=\"text-align: right;\">\n",
       "      <th></th>\n",
       "      <th></th>\n",
       "      <th></th>\n",
       "      <th>bundles/second</th>\n",
       "    </tr>\n",
       "    <tr>\n",
       "      <th>test</th>\n",
       "      <th>crc</th>\n",
       "      <th>program</th>\n",
       "      <th></th>\n",
       "    </tr>\n",
       "  </thead>\n",
       "  <tbody>\n",
       "    <tr>\n",
       "      <th rowspan=\"15\" valign=\"top\">Creating</th>\n",
       "      <th rowspan=\"5\" valign=\"top\">CRC_16</th>\n",
       "      <th>bp7-go-v0.1.native</th>\n",
       "      <td>19319.5</td>\n",
       "    </tr>\n",
       "    <tr>\n",
       "      <th>bp7-go-v0.2.native</th>\n",
       "      <td>19736.0</td>\n",
       "    </tr>\n",
       "    <tr>\n",
       "      <th>bp7-go-v0.2.wasm</th>\n",
       "      <td>2618.5</td>\n",
       "    </tr>\n",
       "    <tr>\n",
       "      <th>bp7-rs.native</th>\n",
       "      <td>101213.5</td>\n",
       "    </tr>\n",
       "    <tr>\n",
       "      <th>bp7-rs.wasm</th>\n",
       "      <td>93204.0</td>\n",
       "    </tr>\n",
       "    <tr>\n",
       "      <th rowspan=\"5\" valign=\"top\">CRC_32</th>\n",
       "      <th>bp7-go-v0.1.native</th>\n",
       "      <td>19419.5</td>\n",
       "    </tr>\n",
       "    <tr>\n",
       "      <th>bp7-go-v0.2.native</th>\n",
       "      <td>19573.5</td>\n",
       "    </tr>\n",
       "    <tr>\n",
       "      <th>bp7-go-v0.2.wasm</th>\n",
       "      <td>2618.5</td>\n",
       "    </tr>\n",
       "    <tr>\n",
       "      <th>bp7-rs.native</th>\n",
       "      <td>94938.5</td>\n",
       "    </tr>\n",
       "    <tr>\n",
       "      <th>bp7-rs.wasm</th>\n",
       "      <td>93116.5</td>\n",
       "    </tr>\n",
       "    <tr>\n",
       "      <th rowspan=\"5\" valign=\"top\">CRC_NO</th>\n",
       "      <th>bp7-go-v0.1.native</th>\n",
       "      <td>18168.0</td>\n",
       "    </tr>\n",
       "    <tr>\n",
       "      <th>bp7-go-v0.2.native</th>\n",
       "      <td>20427.0</td>\n",
       "    </tr>\n",
       "    <tr>\n",
       "      <th>bp7-go-v0.2.wasm</th>\n",
       "      <td>2874.5</td>\n",
       "    </tr>\n",
       "    <tr>\n",
       "      <th>bp7-rs.native</th>\n",
       "      <td>116599.0</td>\n",
       "    </tr>\n",
       "    <tr>\n",
       "      <th>bp7-rs.wasm</th>\n",
       "      <td>101967.0</td>\n",
       "    </tr>\n",
       "    <tr>\n",
       "      <th rowspan=\"15\" valign=\"top\">Encoding</th>\n",
       "      <th rowspan=\"5\" valign=\"top\">CRC_16</th>\n",
       "      <th>bp7-go-v0.1.native</th>\n",
       "      <td>62429.0</td>\n",
       "    </tr>\n",
       "    <tr>\n",
       "      <th>bp7-go-v0.2.native</th>\n",
       "      <td>286419.5</td>\n",
       "    </tr>\n",
       "    <tr>\n",
       "      <th>bp7-go-v0.2.wasm</th>\n",
       "      <td>18838.0</td>\n",
       "    </tr>\n",
       "    <tr>\n",
       "      <th>bp7-rs.native</th>\n",
       "      <td>698623.0</td>\n",
       "    </tr>\n",
       "    <tr>\n",
       "      <th>bp7-rs.wasm</th>\n",
       "      <td>1018019.0</td>\n",
       "    </tr>\n",
       "    <tr>\n",
       "      <th rowspan=\"5\" valign=\"top\">CRC_32</th>\n",
       "      <th>bp7-go-v0.1.native</th>\n",
       "      <td>63166.5</td>\n",
       "    </tr>\n",
       "    <tr>\n",
       "      <th>bp7-go-v0.2.native</th>\n",
       "      <td>287868.5</td>\n",
       "    </tr>\n",
       "    <tr>\n",
       "      <th>bp7-go-v0.2.wasm</th>\n",
       "      <td>18880.5</td>\n",
       "    </tr>\n",
       "    <tr>\n",
       "      <th>bp7-rs.native</th>\n",
       "      <td>695804.0</td>\n",
       "    </tr>\n",
       "    <tr>\n",
       "      <th>bp7-rs.wasm</th>\n",
       "      <td>993973.5</td>\n",
       "    </tr>\n",
       "    <tr>\n",
       "      <th rowspan=\"5\" valign=\"top\">CRC_NO</th>\n",
       "      <th>bp7-go-v0.1.native</th>\n",
       "      <td>68792.5</td>\n",
       "    </tr>\n",
       "    <tr>\n",
       "      <th>bp7-go-v0.2.native</th>\n",
       "      <td>480773.5</td>\n",
       "    </tr>\n",
       "    <tr>\n",
       "      <th>bp7-go-v0.2.wasm</th>\n",
       "      <td>34768.0</td>\n",
       "    </tr>\n",
       "    <tr>\n",
       "      <th>bp7-rs.native</th>\n",
       "      <td>2071187.5</td>\n",
       "    </tr>\n",
       "    <tr>\n",
       "      <th>bp7-rs.wasm</th>\n",
       "      <td>3234531.0</td>\n",
       "    </tr>\n",
       "    <tr>\n",
       "      <th rowspan=\"15\" valign=\"top\">Loading</th>\n",
       "      <th rowspan=\"5\" valign=\"top\">CRC_16</th>\n",
       "      <th>bp7-go-v0.1.native</th>\n",
       "      <td>50997.5</td>\n",
       "    </tr>\n",
       "    <tr>\n",
       "      <th>bp7-go-v0.2.native</th>\n",
       "      <td>47799.5</td>\n",
       "    </tr>\n",
       "    <tr>\n",
       "      <th>bp7-go-v0.2.wasm</th>\n",
       "      <td>10196.5</td>\n",
       "    </tr>\n",
       "    <tr>\n",
       "      <th>bp7-rs.native</th>\n",
       "      <td>670243.0</td>\n",
       "    </tr>\n",
       "    <tr>\n",
       "      <th>bp7-rs.wasm</th>\n",
       "      <td>512654.5</td>\n",
       "    </tr>\n",
       "    <tr>\n",
       "      <th rowspan=\"5\" valign=\"top\">CRC_32</th>\n",
       "      <th>bp7-go-v0.1.native</th>\n",
       "      <td>45355.5</td>\n",
       "    </tr>\n",
       "    <tr>\n",
       "      <th>bp7-go-v0.2.native</th>\n",
       "      <td>49519.0</td>\n",
       "    </tr>\n",
       "    <tr>\n",
       "      <th>bp7-go-v0.2.wasm</th>\n",
       "      <td>9786.5</td>\n",
       "    </tr>\n",
       "    <tr>\n",
       "      <th>bp7-rs.native</th>\n",
       "      <td>688541.0</td>\n",
       "    </tr>\n",
       "    <tr>\n",
       "      <th>bp7-rs.wasm</th>\n",
       "      <td>504449.5</td>\n",
       "    </tr>\n",
       "    <tr>\n",
       "      <th rowspan=\"5\" valign=\"top\">CRC_NO</th>\n",
       "      <th>bp7-go-v0.1.native</th>\n",
       "      <td>108998.0</td>\n",
       "    </tr>\n",
       "    <tr>\n",
       "      <th>bp7-go-v0.2.native</th>\n",
       "      <td>51984.0</td>\n",
       "    </tr>\n",
       "    <tr>\n",
       "      <th>bp7-go-v0.2.wasm</th>\n",
       "      <td>13377.0</td>\n",
       "    </tr>\n",
       "    <tr>\n",
       "      <th>bp7-rs.native</th>\n",
       "      <td>779230.0</td>\n",
       "    </tr>\n",
       "    <tr>\n",
       "      <th>bp7-rs.wasm</th>\n",
       "      <td>535877.0</td>\n",
       "    </tr>\n",
       "  </tbody>\n",
       "</table>\n",
       "</div>"
      ],
      "text/plain": [
       "                                    bundles/second\n",
       "test     crc    program                           \n",
       "Creating CRC_16 bp7-go-v0.1.native         19319.5\n",
       "                bp7-go-v0.2.native         19736.0\n",
       "                bp7-go-v0.2.wasm            2618.5\n",
       "                bp7-rs.native             101213.5\n",
       "                bp7-rs.wasm                93204.0\n",
       "         CRC_32 bp7-go-v0.1.native         19419.5\n",
       "                bp7-go-v0.2.native         19573.5\n",
       "                bp7-go-v0.2.wasm            2618.5\n",
       "                bp7-rs.native              94938.5\n",
       "                bp7-rs.wasm                93116.5\n",
       "         CRC_NO bp7-go-v0.1.native         18168.0\n",
       "                bp7-go-v0.2.native         20427.0\n",
       "                bp7-go-v0.2.wasm            2874.5\n",
       "                bp7-rs.native             116599.0\n",
       "                bp7-rs.wasm               101967.0\n",
       "Encoding CRC_16 bp7-go-v0.1.native         62429.0\n",
       "                bp7-go-v0.2.native        286419.5\n",
       "                bp7-go-v0.2.wasm           18838.0\n",
       "                bp7-rs.native             698623.0\n",
       "                bp7-rs.wasm              1018019.0\n",
       "         CRC_32 bp7-go-v0.1.native         63166.5\n",
       "                bp7-go-v0.2.native        287868.5\n",
       "                bp7-go-v0.2.wasm           18880.5\n",
       "                bp7-rs.native             695804.0\n",
       "                bp7-rs.wasm               993973.5\n",
       "         CRC_NO bp7-go-v0.1.native         68792.5\n",
       "                bp7-go-v0.2.native        480773.5\n",
       "                bp7-go-v0.2.wasm           34768.0\n",
       "                bp7-rs.native            2071187.5\n",
       "                bp7-rs.wasm              3234531.0\n",
       "Loading  CRC_16 bp7-go-v0.1.native         50997.5\n",
       "                bp7-go-v0.2.native         47799.5\n",
       "                bp7-go-v0.2.wasm           10196.5\n",
       "                bp7-rs.native             670243.0\n",
       "                bp7-rs.wasm               512654.5\n",
       "         CRC_32 bp7-go-v0.1.native         45355.5\n",
       "                bp7-go-v0.2.native         49519.0\n",
       "                bp7-go-v0.2.wasm            9786.5\n",
       "                bp7-rs.native             688541.0\n",
       "                bp7-rs.wasm               504449.5\n",
       "         CRC_NO bp7-go-v0.1.native        108998.0\n",
       "                bp7-go-v0.2.native         51984.0\n",
       "                bp7-go-v0.2.wasm           13377.0\n",
       "                bp7-rs.native             779230.0\n",
       "                bp7-rs.wasm               535877.0"
      ]
     },
     "execution_count": 4,
     "metadata": {},
     "output_type": "execute_result"
    }
   ],
   "source": [
    "means = df.groupby(['test','crc','program']).mean()\n",
    "means"
   ]
  },
  {
   "cell_type": "code",
   "execution_count": 5,
   "metadata": {},
   "outputs": [],
   "source": [
    "def get_stats(test_name, crc_type):\n",
    "    res = df[df['test'] == test_name]\n",
    "    res_means = res.groupby(['program','crc'], as_index=False).mean()\n",
    "    res_means.sort_values(by=['crc'])\n",
    "    return res_means[res_means.crc == crc_type].set_index(['program', 'crc'])"
   ]
  },
  {
   "cell_type": "code",
   "execution_count": 6,
   "metadata": {},
   "outputs": [],
   "source": [
    "creating_no = get_stats('Creating','CRC_NO')"
   ]
  },
  {
   "cell_type": "code",
   "execution_count": 7,
   "metadata": {},
   "outputs": [],
   "source": [
    "creating_16 = get_stats('Creating','CRC_16')"
   ]
  },
  {
   "cell_type": "code",
   "execution_count": 8,
   "metadata": {},
   "outputs": [],
   "source": [
    "creating_32 = get_stats('Creating','CRC_32')"
   ]
  },
  {
   "cell_type": "markdown",
   "metadata": {},
   "source": [
    "# Bundle Creation"
   ]
  },
  {
   "cell_type": "code",
   "execution_count": 9,
   "metadata": {},
   "outputs": [
    {
     "data": {
      "image/png": "[encoded data removed]",
      "text/plain": [
       "<Figure size 432x288 with 1 Axes>"
      ]
     },
     "metadata": {
      "needs_background": "light"
     },
     "output_type": "display_data"
    }
   ],
   "source": [
    "df2 = df[df['test'] == 'Creating']\n",
    "df2 = df2.groupby(['program','crc','test'], as_index=False).mean()\n",
    "ax = df2.pivot(index=\"crc\", columns=\"program\", values=\"bundles/second\").plot(kind='bar', rot=0)\n",
    "ax.set_ylabel(\"bundles/second\")\n",
    "ax.set_xlabel(\"crc type\")\n",
    "plt.tight_layout()\n",
    "plt.savefig(\"creating.png\")"
   ]
  },
  {
   "cell_type": "markdown",
   "metadata": {},
   "source": [
    "# Bundle Encoding"
   ]
  },
  {
   "cell_type": "code",
   "execution_count": 10,
   "metadata": {},
   "outputs": [
    {
     "data": {
      "image/png": "[encoded data removed]",
      "text/plain": [
       "<Figure size 432x288 with 1 Axes>"
      ]
     },
     "metadata": {
      "needs_background": "light"
     },
     "output_type": "display_data"
    }
   ],
   "source": [
    "df2 = df[df['test'] == 'Encoding']\n",
    "df2 = df2.groupby(['program','crc','test'], as_index=False).mean()\n",
    "ax = df2.pivot(index=\"crc\", columns=\"program\", values=\"bundles/second\").plot(kind='bar', rot=0)\n",
    "ax.set_ylabel(\"bundles/second\")\n",
    "ax.set_xlabel(\"crc type\")\n",
    "plt.tight_layout()\n",
    "plt.savefig(\"encoding.png\")"
   ]
  },
  {
   "cell_type": "markdown",
   "metadata": {},
   "source": [
    "# Bundle Decoding"
   ]
  },
  {
   "cell_type": "code",
   "execution_count": 11,
   "metadata": {},
   "outputs": [
    {
     "data": {
      "image/png": "[encoded data removed]",
      "text/plain": [
       "<Figure size 432x288 with 1 Axes>"
      ]
     },
     "metadata": {
      "needs_background": "light"
     },
     "output_type": "display_data"
    }
   ],
   "source": [
    "df2 = df[df['test'] == 'Loading']\n",
    "df2 = df2.groupby(['program','crc','test'], as_index=False).mean()\n",
    "ax = df2.pivot(index=\"crc\", columns=\"program\", values=\"bundles/second\").plot(kind='bar', rot=0)\n",
    "ax.set_ylabel(\"bundles/second\")\n",
    "ax.set_xlabel(\"crc type\")\n",
    "plt.tight_layout()\n",
    "plt.savefig(\"loading.png\")"
   ]
  },
  {
   "cell_type": "markdown",
   "metadata": {},
   "source": [
    "# Binary Sizes"
   ]
  },
  {
   "cell_type": "code",
   "execution_count": 25,
   "metadata": {},
   "outputs": [
    {
     "data": {
      "text/html": [
       "<div>\n",
       "<style scoped>\n",
       "    .dataframe tbody tr th:only-of-type {\n",
       "        vertical-align: middle;\n",
       "    }\n",
       "\n",
       "    .dataframe tbody tr th {\n",
       "        vertical-align: top;\n",
       "    }\n",
       "\n",
       "    .dataframe thead th {\n",
       "        text-align: right;\n",
       "    }\n",
       "</style>\n",
       "<table border=\"1\" class=\"dataframe\">\n",
       "  <thead>\n",
       "    <tr style=\"text-align: right;\">\n",
       "      <th></th>\n",
       "      <th>size</th>\n",
       "      <th>binary</th>\n",
       "    </tr>\n",
       "  </thead>\n",
       "  <tbody>\n",
       "    <tr>\n",
       "      <th>0</th>\n",
       "      <td>411992</td>\n",
       "      <td>bp7-rs.native</td>\n",
       "    </tr>\n",
       "    <tr>\n",
       "      <th>1</th>\n",
       "      <td>433009</td>\n",
       "      <td>bp7-rs.wasm</td>\n",
       "    </tr>\n",
       "    <tr>\n",
       "      <th>2</th>\n",
       "      <td>10490256</td>\n",
       "      <td>bp7-go-v0.1.native</td>\n",
       "    </tr>\n",
       "    <tr>\n",
       "      <th>3</th>\n",
       "      <td>17654129</td>\n",
       "      <td>bp7-go-v0.1.wasm</td>\n",
       "    </tr>\n",
       "    <tr>\n",
       "      <th>4</th>\n",
       "      <td>1945448</td>\n",
       "      <td>bp7-go-v0.2.native</td>\n",
       "    </tr>\n",
       "    <tr>\n",
       "      <th>5</th>\n",
       "      <td>3406923</td>\n",
       "      <td>bp7-go-v0.2.wasm</td>\n",
       "    </tr>\n",
       "  </tbody>\n",
       "</table>\n",
       "</div>"
      ],
      "text/plain": [
       "       size              binary\n",
       "0    411992       bp7-rs.native\n",
       "1    433009         bp7-rs.wasm\n",
       "2  10490256  bp7-go-v0.1.native\n",
       "3  17654129    bp7-go-v0.1.wasm\n",
       "4   1945448  bp7-go-v0.2.native\n",
       "5   3406923    bp7-go-v0.2.wasm"
      ]
     },
     "execution_count": 25,
     "metadata": {},
     "output_type": "execute_result"
    }
   ],
   "source": [
    "bin_map = {\"/src/bp7wasm/target/release/bp7eval\" : \"bp7-rs.native\", \n",
    "           \"/src/bp7wasm/target/deploy/bp7eval.wasm\" : \"bp7-rs.wasm\",\n",
    "           \"/src/dtn7-go-v0.1/tests/tests\" : \"bp7-go-v0.1.native\",\n",
    "           \"/src/dtn7-go-v0.1/tests/wasm/test.wasm\" : \"bp7-go-v0.1.wasm\",\n",
    "           \"/src/dtn7-go-v0.2/tests/tests\" : \"bp7-go-v0.2.native\",\n",
    "           \"/src/dtn7-go-v0.2/tests/wasm/test.wasm\" : \"bp7-go-v0.2.wasm\",\n",
    "          }\n",
    "df = pd.read_csv('../results/binary.sizes.txt', sep=' ', header=None, names=[\"size\", \"binary\"])\n",
    "df = df.replace(bin_map)\n",
    "df"
   ]
  },
  {
   "cell_type": "code",
   "execution_count": 26,
   "metadata": {},
   "outputs": [
    {
     "data": {
      "image/png": "[encoded data removed]",
      "text/plain": [
       "<Figure size 432x288 with 1 Axes>"
      ]
     },
     "metadata": {
      "needs_background": "light"
     },
     "output_type": "display_data"
    }
   ],
   "source": [
    "df[\"size\"] = df[\"size\"].div(1000000)\n",
    "ax = df.plot(kind='bar', rot=15, x='binary', y='size', legend=False, ylim=(0,20))\n",
    "ax.set_ylabel('Size in MB')\n",
    "ax.set_xlabel('Binary')\n",
    "ax.ticklabel_format(axis = 'y', style = 'plain')\n",
    "plt.tight_layout()\n",
    "plt.savefig(\"binarysizes.png\")"
   ]
  },
  {
   "cell_type": "markdown",
   "metadata": {},
   "source": [
    "# Storage Test"
   ]
  },
  {
   "cell_type": "code",
   "execution_count": 29,
   "metadata": {},
   "outputs": [
    {
     "data": {
      "text/html": [
       "<div>\n",
       "<style scoped>\n",
       "    .dataframe tbody tr th:only-of-type {\n",
       "        vertical-align: middle;\n",
       "    }\n",
       "\n",
       "    .dataframe tbody tr th {\n",
       "        vertical-align: top;\n",
       "    }\n",
       "\n",
       "    .dataframe thead th {\n",
       "        text-align: right;\n",
       "    }\n",
       "</style>\n",
       "<table border=\"1\" class=\"dataframe\">\n",
       "  <thead>\n",
       "    <tr style=\"text-align: right;\">\n",
       "      <th></th>\n",
       "      <th>msgs</th>\n",
       "      <th>time</th>\n",
       "    </tr>\n",
       "  </thead>\n",
       "  <tbody>\n",
       "    <tr>\n",
       "      <th>0</th>\n",
       "      <td>10000</td>\n",
       "      <td>1559</td>\n",
       "    </tr>\n",
       "    <tr>\n",
       "      <th>1</th>\n",
       "      <td>20000</td>\n",
       "      <td>3219</td>\n",
       "    </tr>\n",
       "    <tr>\n",
       "      <th>2</th>\n",
       "      <td>30000</td>\n",
       "      <td>4675</td>\n",
       "    </tr>\n",
       "    <tr>\n",
       "      <th>3</th>\n",
       "      <td>40000</td>\n",
       "      <td>6363</td>\n",
       "    </tr>\n",
       "    <tr>\n",
       "      <th>4</th>\n",
       "      <td>50000</td>\n",
       "      <td>7611</td>\n",
       "    </tr>\n",
       "    <tr>\n",
       "      <th>5</th>\n",
       "      <td>60000</td>\n",
       "      <td>10070</td>\n",
       "    </tr>\n",
       "    <tr>\n",
       "      <th>6</th>\n",
       "      <td>70000</td>\n",
       "      <td>12370</td>\n",
       "    </tr>\n",
       "    <tr>\n",
       "      <th>7</th>\n",
       "      <td>80000</td>\n",
       "      <td>14279</td>\n",
       "    </tr>\n",
       "    <tr>\n",
       "      <th>8</th>\n",
       "      <td>90000</td>\n",
       "      <td>15850</td>\n",
       "    </tr>\n",
       "    <tr>\n",
       "      <th>9</th>\n",
       "      <td>100000</td>\n",
       "      <td>18387</td>\n",
       "    </tr>\n",
       "    <tr>\n",
       "      <th>10</th>\n",
       "      <td>110000</td>\n",
       "      <td>21466</td>\n",
       "    </tr>\n",
       "    <tr>\n",
       "      <th>11</th>\n",
       "      <td>120000</td>\n",
       "      <td>21925</td>\n",
       "    </tr>\n",
       "    <tr>\n",
       "      <th>12</th>\n",
       "      <td>130000</td>\n",
       "      <td>24808</td>\n",
       "    </tr>\n",
       "    <tr>\n",
       "      <th>13</th>\n",
       "      <td>140000</td>\n",
       "      <td>26645</td>\n",
       "    </tr>\n",
       "    <tr>\n",
       "      <th>14</th>\n",
       "      <td>150000</td>\n",
       "      <td>30546</td>\n",
       "    </tr>\n",
       "  </tbody>\n",
       "</table>\n",
       "</div>"
      ],
      "text/plain": [
       "      msgs   time\n",
       "0    10000   1559\n",
       "1    20000   3219\n",
       "2    30000   4675\n",
       "3    40000   6363\n",
       "4    50000   7611\n",
       "5    60000  10070\n",
       "6    70000  12370\n",
       "7    80000  14279\n",
       "8    90000  15850\n",
       "9   100000  18387\n",
       "10  110000  21466\n",
       "11  120000  21925\n",
       "12  130000  24808\n",
       "13  140000  26645\n",
       "14  150000  30546"
      ]
     },
     "execution_count": 29,
     "metadata": {},
     "output_type": "execute_result"
    }
   ],
   "source": [
    "df = pd.read_csv('../results/storagetest.compressed.csv')\n",
    "df"
   ]
  },
  {
   "cell_type": "code",
   "execution_count": 33,
   "metadata": {},
   "outputs": [
    {
     "data": {
      "image/png": "[encoded data removed]",
      "text/plain": [
       "<Figure size 432x288 with 1 Axes>"
      ]
     },
     "metadata": {
      "needs_background": "light"
     },
     "output_type": "display_data"
    }
   ],
   "source": [
    "ax = df.plot(kind='bar', y='time', x='msgs', legend=False)\n",
    "ax.set_ylabel('Time in ms')\n",
    "ax.set_xlabel('Number of messages stored')\n",
    "plt.tight_layout()\n",
    "plt.savefig(\"storagetest_compressed.png\")"
   ]
  },
  {
   "cell_type": "code",
   "execution_count": null,
   "metadata": {},
   "outputs": [],
   "source": []
  }
 ],
 "metadata": {
  "kernelspec": {
   "display_name": "Python 3",
   "language": "python",
   "name": "python3"
  },
  "language_info": {
   "codemirror_mode": {
    "name": "ipython",
    "version": 3
   },
   "file_extension": ".py",
   "mimetype": "text/x-python",
   "name": "python",
   "nbconvert_exporter": "python",
   "pygments_lexer": "ipython3",
   "version": "3.7.3"
  }
 },
 "nbformat": 4,
 "nbformat_minor": 2
}
