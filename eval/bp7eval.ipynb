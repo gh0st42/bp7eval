{
 "cells": [
  {
   "cell_type": "code",
   "execution_count": 1,
   "metadata": {},
   "outputs": [],
   "source": [
    "import pandas as pd\n",
    "import matplotlib.pyplot as plt"
   ]
  },
  {
   "cell_type": "code",
   "execution_count": 21,
   "metadata": {},
   "outputs": [],
   "source": [
    "df = pd.read_csv('../results/complete.csv')\n",
    "df['crc'] = df['crc'].str.upper()"
   ]
  },
  {
   "cell_type": "code",
   "execution_count": 22,
   "metadata": {},
   "outputs": [],
   "source": [
    "df = df.drop(columns='runs')"
   ]
  },
  {
   "cell_type": "markdown",
   "metadata": {},
   "source": [
    "# Raw Average Results"
   ]
  },
  {
   "cell_type": "code",
   "execution_count": 23,
   "metadata": {},
   "outputs": [
    {
     "data": {
      "text/html": [
       "<div>\n",
       "<style scoped>\n",
       "    .dataframe tbody tr th:only-of-type {\n",
       "        vertical-align: middle;\n",
       "    }\n",
       "\n",
       "    .dataframe tbody tr th {\n",
       "        vertical-align: top;\n",
       "    }\n",
       "\n",
       "    .dataframe thead th {\n",
       "        text-align: right;\n",
       "    }\n",
       "</style>\n",
       "<table border=\"1\" class=\"dataframe\">\n",
       "  <thead>\n",
       "    <tr style=\"text-align: right;\">\n",
       "      <th></th>\n",
       "      <th></th>\n",
       "      <th></th>\n",
       "      <th>bundles/second</th>\n",
       "    </tr>\n",
       "    <tr>\n",
       "      <th>test</th>\n",
       "      <th>crc</th>\n",
       "      <th>program</th>\n",
       "      <th></th>\n",
       "    </tr>\n",
       "  </thead>\n",
       "  <tbody>\n",
       "    <tr>\n",
       "      <th rowspan=\"15\" valign=\"top\">Creating</th>\n",
       "      <th rowspan=\"5\" valign=\"top\">CRC_16</th>\n",
       "      <th>bp7-go-v0.1.native.out</th>\n",
       "      <td>18016.5</td>\n",
       "    </tr>\n",
       "    <tr>\n",
       "      <th>bp7-go-v0.2.native.out</th>\n",
       "      <td>17699.0</td>\n",
       "    </tr>\n",
       "    <tr>\n",
       "      <th>bp7-go-v0.2.wasm.out</th>\n",
       "      <td>2326.5</td>\n",
       "    </tr>\n",
       "    <tr>\n",
       "      <th>bp7-rs.native.out</th>\n",
       "      <td>86670.5</td>\n",
       "    </tr>\n",
       "    <tr>\n",
       "      <th>bp7-rs.wasm.out</th>\n",
       "      <td>75535.5</td>\n",
       "    </tr>\n",
       "    <tr>\n",
       "      <th rowspan=\"5\" valign=\"top\">CRC_32</th>\n",
       "      <th>bp7-go-v0.1.native.out</th>\n",
       "      <td>17107.5</td>\n",
       "    </tr>\n",
       "    <tr>\n",
       "      <th>bp7-go-v0.2.native.out</th>\n",
       "      <td>16987.0</td>\n",
       "    </tr>\n",
       "    <tr>\n",
       "      <th>bp7-go-v0.2.wasm.out</th>\n",
       "      <td>2331.5</td>\n",
       "    </tr>\n",
       "    <tr>\n",
       "      <th>bp7-rs.native.out</th>\n",
       "      <td>86954.5</td>\n",
       "    </tr>\n",
       "    <tr>\n",
       "      <th>bp7-rs.wasm.out</th>\n",
       "      <td>76816.5</td>\n",
       "    </tr>\n",
       "    <tr>\n",
       "      <th rowspan=\"5\" valign=\"top\">CRC_NO</th>\n",
       "      <th>bp7-go-v0.1.native.out</th>\n",
       "      <td>17921.0</td>\n",
       "    </tr>\n",
       "    <tr>\n",
       "      <th>bp7-go-v0.2.native.out</th>\n",
       "      <td>18762.5</td>\n",
       "    </tr>\n",
       "    <tr>\n",
       "      <th>bp7-go-v0.2.wasm.out</th>\n",
       "      <td>2441.0</td>\n",
       "    </tr>\n",
       "    <tr>\n",
       "      <th>bp7-rs.native.out</th>\n",
       "      <td>99947.5</td>\n",
       "    </tr>\n",
       "    <tr>\n",
       "      <th>bp7-rs.wasm.out</th>\n",
       "      <td>83528.5</td>\n",
       "    </tr>\n",
       "    <tr>\n",
       "      <th rowspan=\"15\" valign=\"top\">Encoding</th>\n",
       "      <th rowspan=\"5\" valign=\"top\">CRC_16</th>\n",
       "      <th>bp7-go-v0.1.native.out</th>\n",
       "      <td>53797.0</td>\n",
       "    </tr>\n",
       "    <tr>\n",
       "      <th>bp7-go-v0.2.native.out</th>\n",
       "      <td>235499.0</td>\n",
       "    </tr>\n",
       "    <tr>\n",
       "      <th>bp7-go-v0.2.wasm.out</th>\n",
       "      <td>13626.5</td>\n",
       "    </tr>\n",
       "    <tr>\n",
       "      <th>bp7-rs.native.out</th>\n",
       "      <td>532732.5</td>\n",
       "    </tr>\n",
       "    <tr>\n",
       "      <th>bp7-rs.wasm.out</th>\n",
       "      <td>709821.0</td>\n",
       "    </tr>\n",
       "    <tr>\n",
       "      <th rowspan=\"5\" valign=\"top\">CRC_32</th>\n",
       "      <th>bp7-go-v0.1.native.out</th>\n",
       "      <td>54607.5</td>\n",
       "    </tr>\n",
       "    <tr>\n",
       "      <th>bp7-go-v0.2.native.out</th>\n",
       "      <td>269905.5</td>\n",
       "    </tr>\n",
       "    <tr>\n",
       "      <th>bp7-go-v0.2.wasm.out</th>\n",
       "      <td>14679.5</td>\n",
       "    </tr>\n",
       "    <tr>\n",
       "      <th>bp7-rs.native.out</th>\n",
       "      <td>527745.5</td>\n",
       "    </tr>\n",
       "    <tr>\n",
       "      <th>bp7-rs.wasm.out</th>\n",
       "      <td>684612.5</td>\n",
       "    </tr>\n",
       "    <tr>\n",
       "      <th rowspan=\"5\" valign=\"top\">CRC_NO</th>\n",
       "      <th>bp7-go-v0.1.native.out</th>\n",
       "      <td>55803.5</td>\n",
       "    </tr>\n",
       "    <tr>\n",
       "      <th>bp7-go-v0.2.native.out</th>\n",
       "      <td>503244.5</td>\n",
       "    </tr>\n",
       "    <tr>\n",
       "      <th>bp7-go-v0.2.wasm.out</th>\n",
       "      <td>27302.0</td>\n",
       "    </tr>\n",
       "    <tr>\n",
       "      <th>bp7-rs.native.out</th>\n",
       "      <td>1520157.0</td>\n",
       "    </tr>\n",
       "    <tr>\n",
       "      <th>bp7-rs.wasm.out</th>\n",
       "      <td>2239046.0</td>\n",
       "    </tr>\n",
       "    <tr>\n",
       "      <th rowspan=\"15\" valign=\"top\">Loading</th>\n",
       "      <th rowspan=\"5\" valign=\"top\">CRC_16</th>\n",
       "      <th>bp7-go-v0.1.native.out</th>\n",
       "      <td>45950.0</td>\n",
       "    </tr>\n",
       "    <tr>\n",
       "      <th>bp7-go-v0.2.native.out</th>\n",
       "      <td>45249.0</td>\n",
       "    </tr>\n",
       "    <tr>\n",
       "      <th>bp7-go-v0.2.wasm.out</th>\n",
       "      <td>9266.0</td>\n",
       "    </tr>\n",
       "    <tr>\n",
       "      <th>bp7-rs.native.out</th>\n",
       "      <td>523655.0</td>\n",
       "    </tr>\n",
       "    <tr>\n",
       "      <th>bp7-rs.wasm.out</th>\n",
       "      <td>375689.5</td>\n",
       "    </tr>\n",
       "    <tr>\n",
       "      <th rowspan=\"5\" valign=\"top\">CRC_32</th>\n",
       "      <th>bp7-go-v0.1.native.out</th>\n",
       "      <td>44417.0</td>\n",
       "    </tr>\n",
       "    <tr>\n",
       "      <th>bp7-go-v0.2.native.out</th>\n",
       "      <td>46119.5</td>\n",
       "    </tr>\n",
       "    <tr>\n",
       "      <th>bp7-go-v0.2.wasm.out</th>\n",
       "      <td>9048.0</td>\n",
       "    </tr>\n",
       "    <tr>\n",
       "      <th>bp7-rs.native.out</th>\n",
       "      <td>511739.0</td>\n",
       "    </tr>\n",
       "    <tr>\n",
       "      <th>bp7-rs.wasm.out</th>\n",
       "      <td>371727.5</td>\n",
       "    </tr>\n",
       "    <tr>\n",
       "      <th rowspan=\"5\" valign=\"top\">CRC_NO</th>\n",
       "      <th>bp7-go-v0.1.native.out</th>\n",
       "      <td>97386.5</td>\n",
       "    </tr>\n",
       "    <tr>\n",
       "      <th>bp7-go-v0.2.native.out</th>\n",
       "      <td>52297.0</td>\n",
       "    </tr>\n",
       "    <tr>\n",
       "      <th>bp7-go-v0.2.wasm.out</th>\n",
       "      <td>11864.0</td>\n",
       "    </tr>\n",
       "    <tr>\n",
       "      <th>bp7-rs.native.out</th>\n",
       "      <td>616902.5</td>\n",
       "    </tr>\n",
       "    <tr>\n",
       "      <th>bp7-rs.wasm.out</th>\n",
       "      <td>402988.0</td>\n",
       "    </tr>\n",
       "  </tbody>\n",
       "</table>\n",
       "</div>"
      ],
      "text/plain": [
       "                                        bundles/second\n",
       "test     crc    program                               \n",
       "Creating CRC_16 bp7-go-v0.1.native.out         18016.5\n",
       "                bp7-go-v0.2.native.out         17699.0\n",
       "                bp7-go-v0.2.wasm.out            2326.5\n",
       "                bp7-rs.native.out              86670.5\n",
       "                bp7-rs.wasm.out                75535.5\n",
       "         CRC_32 bp7-go-v0.1.native.out         17107.5\n",
       "                bp7-go-v0.2.native.out         16987.0\n",
       "                bp7-go-v0.2.wasm.out            2331.5\n",
       "                bp7-rs.native.out              86954.5\n",
       "                bp7-rs.wasm.out                76816.5\n",
       "         CRC_NO bp7-go-v0.1.native.out         17921.0\n",
       "                bp7-go-v0.2.native.out         18762.5\n",
       "                bp7-go-v0.2.wasm.out            2441.0\n",
       "                bp7-rs.native.out              99947.5\n",
       "                bp7-rs.wasm.out                83528.5\n",
       "Encoding CRC_16 bp7-go-v0.1.native.out         53797.0\n",
       "                bp7-go-v0.2.native.out        235499.0\n",
       "                bp7-go-v0.2.wasm.out           13626.5\n",
       "                bp7-rs.native.out             532732.5\n",
       "                bp7-rs.wasm.out               709821.0\n",
       "         CRC_32 bp7-go-v0.1.native.out         54607.5\n",
       "                bp7-go-v0.2.native.out        269905.5\n",
       "                bp7-go-v0.2.wasm.out           14679.5\n",
       "                bp7-rs.native.out             527745.5\n",
       "                bp7-rs.wasm.out               684612.5\n",
       "         CRC_NO bp7-go-v0.1.native.out         55803.5\n",
       "                bp7-go-v0.2.native.out        503244.5\n",
       "                bp7-go-v0.2.wasm.out           27302.0\n",
       "                bp7-rs.native.out            1520157.0\n",
       "                bp7-rs.wasm.out              2239046.0\n",
       "Loading  CRC_16 bp7-go-v0.1.native.out         45950.0\n",
       "                bp7-go-v0.2.native.out         45249.0\n",
       "                bp7-go-v0.2.wasm.out            9266.0\n",
       "                bp7-rs.native.out             523655.0\n",
       "                bp7-rs.wasm.out               375689.5\n",
       "         CRC_32 bp7-go-v0.1.native.out         44417.0\n",
       "                bp7-go-v0.2.native.out         46119.5\n",
       "                bp7-go-v0.2.wasm.out            9048.0\n",
       "                bp7-rs.native.out             511739.0\n",
       "                bp7-rs.wasm.out               371727.5\n",
       "         CRC_NO bp7-go-v0.1.native.out         97386.5\n",
       "                bp7-go-v0.2.native.out         52297.0\n",
       "                bp7-go-v0.2.wasm.out           11864.0\n",
       "                bp7-rs.native.out             616902.5\n",
       "                bp7-rs.wasm.out               402988.0"
      ]
     },
     "execution_count": 23,
     "metadata": {},
     "output_type": "execute_result"
    }
   ],
   "source": [
    "means = df.groupby(['test','crc','program']).mean()\n",
    "means"
   ]
  },
  {
   "cell_type": "code",
   "execution_count": 24,
   "metadata": {},
   "outputs": [],
   "source": [
    "def get_stats(test_name, crc_type):\n",
    "    res = df[df['test'] == test_name]\n",
    "    res_means = res.groupby(['program','crc'], as_index=False).mean()\n",
    "    res_means.sort_values(by=['crc'])\n",
    "    return res_means[res_means.crc == crc_type].set_index(['program', 'crc'])"
   ]
  },
  {
   "cell_type": "code",
   "execution_count": 25,
   "metadata": {},
   "outputs": [],
   "source": [
    "creating_no = get_stats('Creating','CRC_NO')"
   ]
  },
  {
   "cell_type": "code",
   "execution_count": 26,
   "metadata": {},
   "outputs": [],
   "source": [
    "creating_16 = get_stats('Creating','CRC_16')"
   ]
  },
  {
   "cell_type": "code",
   "execution_count": 27,
   "metadata": {},
   "outputs": [],
   "source": [
    "creating_32 = get_stats('Creating','CRC_32')"
   ]
  },
  {
   "cell_type": "markdown",
   "metadata": {},
   "source": [
    "# Bundle Creation"
   ]
  },
  {
   "cell_type": "code",
   "execution_count": 28,
   "metadata": {},
   "outputs": [
    {
     "data": {
      "image/png": "[encoded data removed]",
      "text/plain": [
       "<Figure size 432x288 with 1 Axes>"
      ]
     },
     "metadata": {
      "needs_background": "light"
     },
     "output_type": "display_data"
    }
   ],
   "source": [
    "df2 = df[df['test'] == 'Creating']\n",
    "df2 = df2.groupby(['program','crc','test'], as_index=False).mean()\n",
    "ax = df2.pivot(index=\"crc\", columns=\"program\", values=\"bundles/second\").plot(kind='bar', rot=0)\n",
    "ax.set_ylabel(\"bundles/second\")\n",
    "ax.set_xlabel(\"crc type\")\n",
    "plt.tight_layout()\n",
    "plt.savefig(\"creating.png\")"
   ]
  },
  {
   "cell_type": "markdown",
   "metadata": {},
   "source": [
    "# Bundle Encoding"
   ]
  },
  {
   "cell_type": "code",
   "execution_count": 29,
   "metadata": {},
   "outputs": [
    {
     "data": {
      "image/png": "[encoded data removed]",
      "text/plain": [
       "<Figure size 432x288 with 1 Axes>"
      ]
     },
     "metadata": {
      "needs_background": "light"
     },
     "output_type": "display_data"
    }
   ],
   "source": [
    "df2 = df[df['test'] == 'Encoding']\n",
    "df2 = df2.groupby(['program','crc','test'], as_index=False).mean()\n",
    "ax = df2.pivot(index=\"crc\", columns=\"program\", values=\"bundles/second\").plot(kind='bar', rot=0)\n",
    "ax.set_ylabel(\"bundles/second\")\n",
    "ax.set_xlabel(\"crc type\")\n",
    "plt.tight_layout()\n",
    "plt.savefig(\"encoding.png\")"
   ]
  },
  {
   "cell_type": "markdown",
   "metadata": {},
   "source": [
    "# Bundle Decoding"
   ]
  },
  {
   "cell_type": "code",
   "execution_count": 30,
   "metadata": {},
   "outputs": [
    {
     "data": {
      "image/png": "[encoded data removed]",
      "text/plain": [
       "<Figure size 432x288 with 1 Axes>"
      ]
     },
     "metadata": {
      "needs_background": "light"
     },
     "output_type": "display_data"
    }
   ],
   "source": [
    "df2 = df[df['test'] == 'Loading']\n",
    "df2 = df2.groupby(['program','crc','test'], as_index=False).mean()\n",
    "ax = df2.pivot(index=\"crc\", columns=\"program\", values=\"bundles/second\").plot(kind='bar', rot=0)\n",
    "ax.set_ylabel(\"bundles/second\")\n",
    "ax.set_xlabel(\"crc type\")\n",
    "plt.tight_layout()\n",
    "plt.savefig(\"loading.png\")"
   ]
  },
  {
   "cell_type": "markdown",
   "metadata": {},
   "source": [
    "# Binary Sizes"
   ]
  },
  {
   "cell_type": "code",
   "execution_count": 84,
   "metadata": {},
   "outputs": [
    {
     "data": {
      "text/html": [
       "<div>\n",
       "<style scoped>\n",
       "    .dataframe tbody tr th:only-of-type {\n",
       "        vertical-align: middle;\n",
       "    }\n",
       "\n",
       "    .dataframe tbody tr th {\n",
       "        vertical-align: top;\n",
       "    }\n",
       "\n",
       "    .dataframe thead th {\n",
       "        text-align: right;\n",
       "    }\n",
       "</style>\n",
       "<table border=\"1\" class=\"dataframe\">\n",
       "  <thead>\n",
       "    <tr style=\"text-align: right;\">\n",
       "      <th></th>\n",
       "      <th>size</th>\n",
       "      <th>binary</th>\n",
       "    </tr>\n",
       "  </thead>\n",
       "  <tbody>\n",
       "    <tr>\n",
       "      <th>0</th>\n",
       "      <td>522584</td>\n",
       "      <td>bp7-rs.native</td>\n",
       "    </tr>\n",
       "    <tr>\n",
       "      <th>1</th>\n",
       "      <td>418304</td>\n",
       "      <td>bp7-rs.wasm</td>\n",
       "    </tr>\n",
       "    <tr>\n",
       "      <th>2</th>\n",
       "      <td>10490256</td>\n",
       "      <td>bp7-go-v0.1.native</td>\n",
       "    </tr>\n",
       "    <tr>\n",
       "      <th>3</th>\n",
       "      <td>17654129</td>\n",
       "      <td>bp7-go-v0.1.wasm</td>\n",
       "    </tr>\n",
       "    <tr>\n",
       "      <th>4</th>\n",
       "      <td>1945448</td>\n",
       "      <td>bp7-go-v0.2.native</td>\n",
       "    </tr>\n",
       "    <tr>\n",
       "      <th>5</th>\n",
       "      <td>3406923</td>\n",
       "      <td>bp7-go-v0.2.wasm</td>\n",
       "    </tr>\n",
       "  </tbody>\n",
       "</table>\n",
       "</div>"
      ],
      "text/plain": [
       "       size              binary\n",
       "0    522584       bp7-rs.native\n",
       "1    418304         bp7-rs.wasm\n",
       "2  10490256  bp7-go-v0.1.native\n",
       "3  17654129    bp7-go-v0.1.wasm\n",
       "4   1945448  bp7-go-v0.2.native\n",
       "5   3406923    bp7-go-v0.2.wasm"
      ]
     },
     "execution_count": 84,
     "metadata": {},
     "output_type": "execute_result"
    }
   ],
   "source": [
    "bin_map = {\"/src/bp7wasm/target/release/bp7eval\" : \"bp7-rs.native\", \n",
    "           \"/src/bp7wasm/target/deploy/bp7eval.wasm\" : \"bp7-rs.wasm\",\n",
    "           \"/src/dtn7-go-v0.1/tests/tests\" : \"bp7-go-v0.1.native\",\n",
    "           \"/src/dtn7-go-v0.1/tests/wasm/test.wasm\" : \"bp7-go-v0.1.wasm\",\n",
    "           \"/src/dtn7-go-v0.2/tests/tests\" : \"bp7-go-v0.2.native\",\n",
    "           \"/src/dtn7-go-v0.2/tests/wasm/test.wasm\" : \"bp7-go-v0.2.wasm\",\n",
    "          }\n",
    "df = pd.read_csv('../results/binary.sizes.txt', sep=' ', header=None, names=[\"size\", \"binary\"])\n",
    "df = df.replace(bin_map)\n",
    "df"
   ]
  },
  {
   "cell_type": "code",
   "execution_count": 85,
   "metadata": {},
   "outputs": [
    {
     "data": {
      "image/png": "[encoded data removed]",
      "text/plain": [
       "<Figure size 432x288 with 1 Axes>"
      ]
     },
     "metadata": {
      "needs_background": "light"
     },
     "output_type": "display_data"
    }
   ],
   "source": [
    "ax = df.plot(kind='bar', rot=15, x='binary', y='size', legend=False, ylim=(0,20000000))\n",
    "ax.set_ylabel('size in bytes')\n",
    "ax.ticklabel_format(axis = 'y', style = 'plain')\n",
    "plt.tight_layout()\n",
    "plt.savefig(\"binarysizes.png\")"
   ]
  },
  {
   "cell_type": "code",
   "execution_count": null,
   "metadata": {},
   "outputs": [],
   "source": []
  }
 ],
 "metadata": {
  "kernelspec": {
   "display_name": "Python 3",
   "language": "python",
   "name": "python3"
  },
  "language_info": {
   "codemirror_mode": {
    "name": "ipython",
    "version": 3
   },
   "file_extension": ".py",
   "mimetype": "text/x-python",
   "name": "python",
   "nbconvert_exporter": "python",
   "pygments_lexer": "ipython3",
   "version": "3.7.3"
  }
 },
 "nbformat": 4,
 "nbformat_minor": 2
}
